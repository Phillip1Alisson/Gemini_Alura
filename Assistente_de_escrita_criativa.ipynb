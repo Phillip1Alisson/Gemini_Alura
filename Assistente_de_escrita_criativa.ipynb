{
  "nbformat": 4,
  "nbformat_minor": 0,
  "metadata": {
    "colab": {
      "provenance": [],
      "authorship_tag": "ABX9TyMo5YCk1B22iZrwvV27LvnA",
      "include_colab_link": true
    },
    "kernelspec": {
      "name": "python3",
      "display_name": "Python 3"
    },
    "language_info": {
      "name": "python"
    }
  },
  "cells": [
    {
      "cell_type": "markdown",
      "metadata": {
        "id": "view-in-github",
        "colab_type": "text"
      },
      "source": [
        "<a href=\"https://colab.research.google.com/github/Phillip1Alisson/Gemini_Alura/blob/main/Assistente_de_escrita_criativa.ipynb\" target=\"_parent\"><img src=\"https://colab.research.google.com/assets/colab-badge.svg\" alt=\"Open In Colab\"/></a>"
      ]
    },
    {
      "cell_type": "markdown",
      "source": [
        "Instalação da lib google"
      ],
      "metadata": {
        "id": "FvmxGLJ6AG_3"
      }
    },
    {
      "cell_type": "code",
      "execution_count": 31,
      "metadata": {
        "id": "BnqvEGfn4Z18"
      },
      "outputs": [],
      "source": [
        "!pip install -q -U google-generativeai"
      ]
    },
    {
      "cell_type": "markdown",
      "source": [
        "Passos para sua configuração."
      ],
      "metadata": {
        "id": "P9D_jxjFAL23"
      }
    },
    {
      "cell_type": "code",
      "source": [
        "import google.generativeai as genai\n",
        "\n",
        "GOOGLE_API_KEY=\"API_KEY\"\n",
        "genai.configure(api_key=GOOGLE_API_KEY)"
      ],
      "metadata": {
        "id": "Ejvddfxl4sIR"
      },
      "execution_count": 32,
      "outputs": []
    },
    {
      "cell_type": "markdown",
      "source": [
        "Configuração do modelo."
      ],
      "metadata": {
        "id": "V6oIcNthAOqS"
      }
    },
    {
      "cell_type": "code",
      "source": [
        "generation_config = {\n",
        "  \"temperature\": 1,\n",
        "}"
      ],
      "metadata": {
        "id": "RWI5LUu54wU6"
      },
      "execution_count": 33,
      "outputs": []
    },
    {
      "cell_type": "markdown",
      "source": [
        "Aqui fica uma observação. Para que o modelo ganhe um poder maior na criatividade, alguns itens foi flexibilizado."
      ],
      "metadata": {
        "id": "r4JLiqVyASEH"
      }
    },
    {
      "cell_type": "code",
      "source": [
        "safety_settings=[\n",
        "     {\n",
        "    \"category\": \"HARM_CATEGORY_HARASSMENT\",\n",
        "    \"threshold\": \"BLOCK_NONE\"\n",
        "  },\n",
        "  {\n",
        "    \"category\": \"HARM_CATEGORY_HATE_SPEECH\",\n",
        "    \"threshold\": \"BLOCK_NONE\"\n",
        "  },\n",
        "  {\n",
        "    \"category\": \"HARM_CATEGORY_SEXUALLY_EXPLICIT\",\n",
        "    \"threshold\": \"BLOCK_NONE\"\n",
        "  },\n",
        "  {\n",
        "    \"category\": \"HARM_CATEGORY_DANGEROUS_CONTENT\",\n",
        "    \"threshold\": \"BLOCK_NONE\"\n",
        "  },\n",
        "]"
      ],
      "metadata": {
        "id": "KTVVbQ-L4xCh"
      },
      "execution_count": 45,
      "outputs": []
    },
    {
      "cell_type": "code",
      "source": [
        "model = genai.GenerativeModel(model_name='gemini-1.0-pro',\n",
        "                                  generation_config=generation_config,\n",
        "                                  safety_settings=safety_settings,)"
      ],
      "metadata": {
        "id": "zAKmCAse40VF"
      },
      "execution_count": 35,
      "outputs": []
    },
    {
      "cell_type": "markdown",
      "source": [
        "Aqui temos a função que realiza o contato com o Gemini. Nos auxiliando no primeiro contato."
      ],
      "metadata": {
        "id": "mmSgK4f5A4I_"
      }
    },
    {
      "cell_type": "code",
      "source": [
        "def gerar_texto_criativo(tipo_conteudo, informacoes):\n",
        "  \"\"\"\n",
        "  Gera texto criativo com a ajuda do Gemini.\n",
        "\n",
        "  Args:\n",
        "      tipo_conteudo: Tipo de conteúdo desejado (poema, roteiro, conto).\n",
        "      informacoes: Informações relevantes para o conteúdo (tema, personagens, etc.).\n",
        "\n",
        "  Returns:\n",
        "      Uma string com o texto gerado pelo Gemini.\n",
        "  \"\"\"\n",
        "\n",
        "  # Construa o prompt para o Gemini\n",
        "  prompt = f\"Crie um(a) {tipo_conteudo} sobre o seguinte:\\n\\n{informacoes}\"\n",
        "  # Envie o prompt para o Gemini e recupere a resposta\n",
        "  resposta = model.generate_content(prompt)\n",
        "\n",
        "  # Retorne o texto gerado\n",
        "  return resposta.text"
      ],
      "metadata": {
        "id": "KReCjp3a46xC"
      },
      "execution_count": 36,
      "outputs": []
    },
    {
      "cell_type": "markdown",
      "source": [
        "Aqui, a ideia é que escritor e máquina possam apurar o texto."
      ],
      "metadata": {
        "id": "-dTobldQA-8z"
      }
    },
    {
      "cell_type": "code",
      "source": [
        "def melhorarTexto(melhoria, texto):\n",
        "  \"\"\"\n",
        "  Busca melhorar o texto com a ajuda do Gemini.\n",
        "\n",
        "  Args:\n",
        "      melhoria: Informações relevantes para refinamento do texto.\n",
        "\n",
        "  Returns:\n",
        "      Uma string com o texto gerado pelo Gemini.\n",
        "  \"\"\"\n",
        "\n",
        "  # Construa o prompt para o Gemini\n",
        "  prompt = f\"{texto}\\n\\nMelhore o texto informado com as seguintes opções:\\n\\n{melhoria}\"\n",
        "\n",
        "  # Envie o prompt para o Gemini e recupere a resposta\n",
        "  resposta = model.generate_content(prompt)\n",
        "\n",
        "  # Retorne o texto gerado\n",
        "  return resposta.text"
      ],
      "metadata": {
        "id": "qqDBm8k66tW6"
      },
      "execution_count": 37,
      "outputs": []
    },
    {
      "cell_type": "markdown",
      "source": [
        "Função com o objetivo de auxiliar nos padrões de texto (minúsculo) e garantir que sempre terá entrada."
      ],
      "metadata": {
        "id": "kg_wIbabBOQD"
      }
    },
    {
      "cell_type": "code",
      "source": [
        "def preencher(mensagem):\n",
        "  texto_preenchido = input(mensagem)\n",
        "  while texto_preenchido.strip() == \"\":\n",
        "    texto_preenchido = input(mensagem)\n",
        "  return texto_preenchido.lower()"
      ],
      "metadata": {
        "id": "WQHZc1xU7mHy"
      },
      "execution_count": 38,
      "outputs": []
    },
    {
      "cell_type": "code",
      "source": [
        "  confirmar = \"sim\"\n",
        "  melhorar_texto = \"não\"\n",
        "  texto = ''"
      ],
      "metadata": {
        "id": "u349kNjclXfi"
      },
      "execution_count": 39,
      "outputs": []
    },
    {
      "cell_type": "code",
      "source": [
        "  print(\"Bem-vindo ao Assistente de Escrita Criativa!\")\n",
        "\n",
        "  while confirmar != \"não\" or melhorar_texto != \"não\":\n",
        "    if melhorar_texto == \"sim\":\n",
        "      melhoria = preencher(\"O que deseja melhorar? \")\n",
        "      texto_gerado = melhorarTexto(melhoria, texto)\n",
        "    else:\n",
        "      tipo_conteudo = preencher(\"Qual tipo de conteúdo você deseja criar? (poema, roteiro, conto): \")\n",
        "      informacoes = preencher(f\"Forneça algumas informações sobre o {tipo_conteudo}: \")\n",
        "      texto_gerado = gerar_texto_criativo(tipo_conteudo, informacoes)\n",
        "\n",
        "    texto = texto_gerado\n",
        "    print(\"\\nAqui está o seu texto:\\n\\n\" + texto_gerado)\n",
        "    print(\"==================================================================\")\n",
        "    melhorar_texto = preencher(\"Deseja melhorar o texto? (sim/não): \")\n",
        "\n",
        "    if melhorar_texto == \"não\":\n",
        "      confirmar = preencher(\"Deseja gerar outro texto? (sim/não): \")\n",
        "    print(\"==================================================================\")"
      ],
      "metadata": {
        "colab": {
          "base_uri": "https://localhost:8080/",
          "height": 642
        },
        "id": "GR0EHyi_45vL",
        "outputId": "8f3dbb0b-cdd0-4bc2-9231-77bbaf8c3dab"
      },
      "execution_count": 41,
      "outputs": [
        {
          "output_type": "stream",
          "name": "stdout",
          "text": [
            "Bem-vindo ao Assistente de Escrita Criativa!\n",
            "Qual tipo de conteúdo você deseja criar? (poema, roteiro, conto): poema\n",
            "Forneça algumas informações sobre o poema: passaros\n",
            "\n",
            "Aqui está o seu texto:\n",
            "\n",
            "**Canção dos Pássaros**\n",
            "\n",
            "No céu azul, eles voam tão alto,\n",
            "Pássaros livres, com asas que os exaltam.\n",
            "Tão ágeis e rápidos, sua graça é um encanto,\n",
            "Melodias doces enchem o ar.\n",
            "\n",
            "De manhã cedo, seus cantos acordam a terra,\n",
            "Chamando o sol para afastar a escuridão.\n",
            "Avisos de alegria e esperança que eles derramam,\n",
            "Uma sinfonia da natureza, em cada som.\n",
            "\n",
            "Batidas de asas, um ritmo fascinante,\n",
            "Pintas e penas, um espetáculo deslumbrante.\n",
            "Eles se juntam em bandos, voando em formação,\n",
            "Nuvens vivas no céu, uma exibição deslumbrante.\n",
            "\n",
            "De norte a sul, de leste a oeste,\n",
            "Eles cruzam os ares, à sua própria vontade.\n",
            "Migrando em busca de calor ou comida,\n",
            "Mensageiros alados, guias do mundo.\n",
            "\n",
            "Oh, pássaros, criaturas celestiais,\n",
            "Voem para sempre, livres e triunfantes.\n",
            "Que seus cantos alegrem nossos corações,\n",
            "E que seus voos inspirem nossa imaginação.\n",
            "==================================================================\n",
            "Deseja melhorar o texto? (sim/não): não\n",
            "Deseja gerar outro texto? (sim/não): não\n",
            "==================================================================\n"
          ]
        }
      ]
    },
    {
      "cell_type": "markdown",
      "source": [
        "Abaixo, a criação de um bate-papo literário. Uma espécie de \"clube do livro\". Para que novas ideias fluam"
      ],
      "metadata": {
        "id": "Wi0lkEMXp2Xq"
      }
    },
    {
      "cell_type": "markdown",
      "source": [
        "Aqui uma prévia configuração, para o chat gerar histórico e ter ideia do que falarão."
      ],
      "metadata": {
        "id": "GDcsmpOLp-LV"
      }
    },
    {
      "cell_type": "code",
      "source": [
        "def formatar_historia(texto):\n",
        "  texto_ = 'Aqui falaremos sobre assuntos literários. Não vamos mudar muito do assunto.'\n",
        "  if texto.strip() != \"\":\n",
        "    texto_ += 'Também, temos este texto aqui: ' + texto + '\\n\\n Valor falar sobre ele também.'\n",
        "  return texto_"
      ],
      "metadata": {
        "id": "qjiqhI5BkErJ"
      },
      "execution_count": 53,
      "outputs": []
    },
    {
      "cell_type": "code",
      "source": [
        "model_2 = genai.GenerativeModel(model_name='gemini-1.0-pro',\n",
        "                                  generation_config=generation_config,\n",
        "                                  )"
      ],
      "metadata": {
        "id": "iZRJqcugiuHv"
      },
      "execution_count": 49,
      "outputs": []
    },
    {
      "cell_type": "markdown",
      "source": [
        "Início da aplicação."
      ],
      "metadata": {
        "id": "BrHkS6PNqDsP"
      }
    },
    {
      "cell_type": "code",
      "source": [
        "chat = model_2.start_chat(history=[])\n",
        "chat.send_message(formatar_historia(texto))\n",
        "resp = preencher(\"Deseja participar deste bate-papo literário? Poderemos falar do texto que criamos e de outras obras.\\n\\nDigite sim ou não: \")\n",
        "if resp.lower() == \"sim\":\n",
        "  prompt = preencher('Você (para sair, basta digitar a palavra \"sair\"): ')\n",
        "  print(\"=================================================================\")\n",
        "  while prompt.lower() != \"sair\":\n",
        "    response = chat.send_message(prompt)\n",
        "    print(\"Gemini:\", response.text, '\\n\\n')\n",
        "    prompt = preencher('Você (para sair, basta digitar a palavra \"sair\"): ')\n",
        "    print(\"=================================================================\")\n",
        "\n",
        "response = chat.send_message(\"Tchau Gemini, até a próxima e obrigado.\")\n",
        "print(\"Gemini:\", response.text, '\\n\\n')\n",
        "print(\"=================================================================\")"
      ],
      "metadata": {
        "colab": {
          "base_uri": "https://localhost:8080/",
          "height": 575
        },
        "id": "KDzRzuLUi0Rd",
        "outputId": "c17dfe70-6b86-47e6-cc99-16c6b055a14d"
      },
      "execution_count": 58,
      "outputs": [
        {
          "output_type": "stream",
          "name": "stdout",
          "text": [
            "Deseja participar deste bate-papo literário? Poderemos falar do texto que criamos e de outras obras.\n",
            "\n",
            "Digite sim ou não: sim\n",
            "Você (para sair, basta digitar a palavra \"sair\"): O que achou do texto? Cite pontos que melhoraria\n",
            "=================================================================\n",
            "Gemini: **Pontos positivos do texto:**\n",
            "\n",
            "* Linguagem vívida e sensorial que evoca imagens fortes e vívidas.\n",
            "* Estrutura clara e concisa com um tema abrangente bem definido.\n",
            "* Uso eficaz de personificação e simbolismo para transmitir o significado.\n",
            "* Sentimento alegre e otimista que reflete o maravilhamento do poeta com o mundo natural.\n",
            "\n",
            "**Pontos que poderiam ser melhorados:**\n",
            "\n",
            "* **Profundidade:** O poema poderia se beneficiar de uma exploração mais profunda do simbolismo e dos temas subjacentes. Explorar as implicações filosóficas ou emocionais da liberdade dos pássaros ou o significado de seus cantos poderia adicionar camadas adicionais de significado.\n",
            "* **Ritmo e Rima:** Embora o poema flua bem, o uso de rimas perfeitas em todas as estrofes pode se tornar um pouco repetitivo. Variar os esquemas de rima ou incorporar versos livres poderia criar um ritmo mais interessante e dinâmico.\n",
            "* **Originalidade:** Embora o poema capture bem o tema dos pássaros na literatura, ele não oferece necessariamente uma perspectiva particularmente nova ou original. Explorar aspectos menos conhecidos ou apresentar uma visão única dos pássaros poderia tornar o poema mais memorável e distinto.\n",
            "\n",
            "**Sugestões específicas para melhoria:**\n",
            "\n",
            "* **Estância 2:** Explorar o simbolismo do sol e da escuridão e como os cantos dos pássaros iluminam a escuridão.\n",
            "* **Estância 4:** Investigar a jornada e as provações das aves migratórias e como elas representam resiliência e determinação.\n",
            "* **Estância 6:** Concluir o poema com uma reflexão mais ampla sobre a interconexão entre humanos, natureza e o mundo espiritual. \n",
            "\n",
            "\n",
            "Você (para sair, basta digitar a palavra \"sair\"): sair\n",
            "=================================================================\n",
            "Gemini: Até a próxima, e obrigado por uma conversa estimulante sobre literatura! Foi um prazer interagir com você. \n",
            "\n",
            "\n",
            "=================================================================\n"
          ]
        }
      ]
    }
  ]
}